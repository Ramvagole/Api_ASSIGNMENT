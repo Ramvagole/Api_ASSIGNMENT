{
 "cells": [
  {
   "cell_type": "code",
   "execution_count": null,
   "id": "261d1720-34d1-460a-b261-e6462a811efa",
   "metadata": {},
   "outputs": [],
   "source": [
    "#Q1):-\n",
    "APIs are mechanisms that enable two software components to communicate with each other using a set of definitions and protocols.\n",
    "\n",
    "Example:-\n",
    "The weather bureau's software system contains daily weather data. \n",
    "The weather app on your phone “talks” to this system via APIs and shows you daily weather updates on your phone."
   ]
  },
  {
   "cell_type": "code",
   "execution_count": null,
   "id": "92573fb5-a19f-4974-bf6f-596a2df48068",
   "metadata": {},
   "outputs": [],
   "source": [
    "#Q2):-\n",
    "Advantage:-\n",
    "APIs improve customization by allowing developers to access and use data and functionality from other applications. \n",
    "In this way, developers can customize the website or app content to tailor it to the needs of users and visitors, making the user experience more flexible and personalized.\n",
    "\n",
    "Disadvantage:-\n",
    "However, they also come with some drawbacks, such as security concerns, complexity, compatibility issues, dependency on third-party developers, and governance and management issues."
   ]
  },
  {
   "cell_type": "code",
   "execution_count": null,
   "id": "525ff1a2-da8e-46a8-9fd2-117ea61f9b3f",
   "metadata": {},
   "outputs": [],
   "source": [
    "#Q3):-\n",
    "API stands for Application Programming Interface.\n",
    "API is actually some kind of interface which is having a set of functions. \n",
    "These set of functions will allow programmers to acquire some specific features or the data of an application.\n",
    "\n",
    "API is an interface that exposes an application's data to outside software.\n",
    "whereas web applications are one type of API with stricter requirements."
   ]
  },
  {
   "cell_type": "code",
   "execution_count": null,
   "id": "4e0eff8a-c461-4b41-9205-774fe6512237",
   "metadata": {},
   "outputs": [],
   "source": [
    "#Q4):-\n",
    "REST is a set of guidelines that offers flexible implementation.\n",
    "whereas SOAP is a protocol with specific requirements like XML messaging.\n",
    "\n",
    "As SOAP can only transfer messages as XML files, your SOAP API will be less performant, as XML is a verbose format compared to JSON. \n",
    "API calls made to your server will need more bandwidth and it will take more time to process the request and transfer the response back to the client"
   ]
  },
  {
   "cell_type": "code",
   "execution_count": null,
   "id": "cc541fed-0f49-4f0c-8f5c-662da35796e3",
   "metadata": {},
   "outputs": [],
   "source": [
    "#Q5):-\n",
    "Representational state transfer (REST) is a set of architectural principles. \n",
    "Simple object access protocol (SOAP) is an official protocol maintained by the World Wide Web Consortium.\n",
    "The difference is that SOAP is a protocol while REST is not"
   ]
  }
 ],
 "metadata": {
  "kernelspec": {
   "display_name": "Python 3 (ipykernel)",
   "language": "python",
   "name": "python3"
  },
  "language_info": {
   "codemirror_mode": {
    "name": "ipython",
    "version": 3
   },
   "file_extension": ".py",
   "mimetype": "text/x-python",
   "name": "python",
   "nbconvert_exporter": "python",
   "pygments_lexer": "ipython3",
   "version": "3.10.8"
  }
 },
 "nbformat": 4,
 "nbformat_minor": 5
}
